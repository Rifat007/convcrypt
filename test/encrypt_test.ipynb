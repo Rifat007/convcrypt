{
 "cells": [
  {
   "cell_type": "code",
   "execution_count": 1,
   "metadata": {},
   "outputs": [
    {
     "name": "stderr",
     "output_type": "stream",
     "text": [
      "Using TensorFlow backend.\n"
     ]
    }
   ],
   "source": [
    "import click\n",
    "import keras\n",
    "import math\n",
    "import numpy\n",
    "import os\n",
    "import shutil\n",
    "import tarfile\n",
    "import tensorflow\n",
    "import tqdm"
   ]
  },
  {
   "cell_type": "code",
   "execution_count": 2,
   "metadata": {
    "collapsed": true
   },
   "outputs": [],
   "source": [
    "numpy.set_printoptions(threshold=numpy.nan)"
   ]
  },
  {
   "cell_type": "code",
   "execution_count": 3,
   "metadata": {
    "collapsed": true
   },
   "outputs": [],
   "source": [
    "config = tensorflow.ConfigProto()\n",
    "config.gpu_options.allow_growth = True\n",
    "config.gpu_options.visible_device_list = '3'\n",
    "session = tensorflow.Session(config=config)\n",
    "keras.backend.set_session(session)"
   ]
  },
  {
   "cell_type": "code",
   "execution_count": 4,
   "metadata": {
    "collapsed": true
   },
   "outputs": [],
   "source": [
    "def compress_tar(source_dir, output_filename):\n",
    "    with tarfile.open(output_filename, 'w:gz') as tar:\n",
    "        tar.add(source_dir, arcname=os.path.basename(source_dir))\n",
    "    shutil.rmtree(source_dir)"
   ]
  },
  {
   "cell_type": "code",
   "execution_count": 5,
   "metadata": {
    "collapsed": true
   },
   "outputs": [],
   "source": [
    "def extract_tar(file_path):\n",
    "    pass"
   ]
  },
  {
   "cell_type": "code",
   "execution_count": 6,
   "metadata": {
    "collapsed": true
   },
   "outputs": [],
   "source": [
    "def read_bits(file_path):\n",
    "    bits = []\n",
    "    with open(file_path, 'rb') as f:\n",
    "        bs = (ord(chr(b)) for b in f.read())\n",
    "        for b in bs:\n",
    "            for i in reversed(range(8)):\n",
    "                bits.append((b >> i) & 1)\n",
    "    return numpy.array(bits)"
   ]
  },
  {
   "cell_type": "code",
   "execution_count": 7,
   "metadata": {
    "collapsed": true
   },
   "outputs": [],
   "source": [
    "def write_bits(file_path, bits):\n",
    "    pass"
   ]
  },
  {
   "cell_type": "code",
   "execution_count": 8,
   "metadata": {
    "collapsed": true
   },
   "outputs": [],
   "source": [
    "def save_models(file_path, models):\n",
    "    temp_dir = file_path + '#'\n",
    "    os.makedirs(temp_dir, exist_ok=True)\n",
    "    meta_file = os.path.join(temp_dir, \"meta\")\n",
    "    with open(meta_file, 'w') as meta:\n",
    "        meta.write(\"block_size={}\\n\".format(block_size))\n",
    "        meta.write(\"pad_size={}\\n\".format(pad_size))\n",
    "    for i, model in enumerate(models):\n",
    "        temp_file = os.path.join(temp_dir, \"block{}\".format(i))\n",
    "        model.save_weights(temp_file)\n",
    "    compress_tar(temp_dir, file_path)"
   ]
  },
  {
   "cell_type": "code",
   "execution_count": 9,
   "metadata": {
    "collapsed": true
   },
   "outputs": [],
   "source": [
    "def load_models(file_path):\n",
    "    pass"
   ]
  },
  {
   "cell_type": "code",
   "execution_count": 10,
   "metadata": {
    "collapsed": true
   },
   "outputs": [],
   "source": [
    "def save_key(file_path, key):\n",
    "    numpy.save(file_path, key)\n",
    "    os.rename(file_path + '.npy', file_path)"
   ]
  },
  {
   "cell_type": "code",
   "execution_count": 11,
   "metadata": {
    "collapsed": true
   },
   "outputs": [],
   "source": [
    "#def next_suitable_square(n):\n",
    "#    return int((math.ceil(n ** (1 / 2) / block_size) * block_size) ** 2)"
   ]
  },
  {
   "cell_type": "code",
   "execution_count": 12,
   "metadata": {
    "collapsed": true
   },
   "outputs": [],
   "source": [
    "#def next_suitable_cube(n):\n",
    "#    return int((math.ceil(n ** (1 / 3) / block_size) * block_size) ** 3)"
   ]
  },
  {
   "cell_type": "code",
   "execution_count": 13,
   "metadata": {
    "collapsed": true
   },
   "outputs": [],
   "source": [
    "def next_size_1d(n):\n",
    "    return int(math.ceil(n / block_size) * block_size)"
   ]
  },
  {
   "cell_type": "code",
   "execution_count": 14,
   "metadata": {
    "collapsed": true
   },
   "outputs": [],
   "source": [
    "def next_size_2d(n):\n",
    "    return int(math.ceil(n / block_size ** 2) * block_size ** 2)"
   ]
  },
  {
   "cell_type": "code",
   "execution_count": 15,
   "metadata": {
    "collapsed": true
   },
   "outputs": [],
   "source": [
    "def next_size_3d(n):\n",
    "    return int(math.ceil(n / block_size ** 3) * block_size ** 3)"
   ]
  },
  {
   "cell_type": "code",
   "execution_count": 16,
   "metadata": {
    "collapsed": true
   },
   "outputs": [],
   "source": [
    "def init_model_3d(input_shape):\n",
    "    input_layer = keras.layers.Input(input_shape)\n",
    "    \n",
    "    x = keras.layers.Conv3D(8, (input_shape[0] // 2 + 1, input_shape[1] // 2 + 1, input_shape[2] // 2 + 1))(input_layer)\n",
    "    x = keras.layers.Flatten()(x)\n",
    "    \n",
    "    output_layer = keras.layers.Activation('sigmoid')(x)\n",
    "    \n",
    "    model = keras.models.Model(input_layer, output_layer)\n",
    "    model.compile(optimizer='adam', loss='binary_crossentropy', metrics=['accuracy'])\n",
    "    return model"
   ]
  },
  {
   "cell_type": "code",
   "execution_count": 17,
   "metadata": {
    "collapsed": true
   },
   "outputs": [],
   "source": [
    "def random_pad_3d(bits):\n",
    "    global pad_size\n",
    "    pad_size = next_size_3d(len(bits)) - len(bits)\n",
    "    pad_array = numpy.random.randint(2, size=(pad_size,))\n",
    "    return numpy.concatenate([bits, pad_array])[numpy.newaxis, :]"
   ]
  },
  {
   "cell_type": "code",
   "execution_count": 18,
   "metadata": {
    "collapsed": true
   },
   "outputs": [],
   "source": [
    "def num_blocks(data):\n",
    "    #return int(numpy.round(data.shape[1] ** (1 / 3) / block_size)) ** 3\n",
    "    return data.shape[1] // block_size ** 3"
   ]
  },
  {
   "cell_type": "code",
   "execution_count": 19,
   "metadata": {
    "collapsed": true
   },
   "outputs": [],
   "source": [
    "#def cubify(bits):\n",
    "#    return bits.reshape(blocks, 1, block_size, block_size, block_size, 1)"
   ]
  },
  {
   "cell_type": "code",
   "execution_count": 20,
   "metadata": {
    "collapsed": true
   },
   "outputs": [],
   "source": [
    "def generate_key_cube(data): \n",
    "    return numpy.random.randint(2, size=(1, block_size, block_size, block_size, 1))"
   ]
  },
  {
   "cell_type": "code",
   "execution_count": 21,
   "metadata": {
    "collapsed": true
   },
   "outputs": [],
   "source": [
    "def split_data(data):\n",
    "    return data.reshape(blocks, 1, data.shape[1] // blocks)"
   ]
  },
  {
   "cell_type": "code",
   "execution_count": 22,
   "metadata": {
    "collapsed": true
   },
   "outputs": [],
   "source": [
    "#def training_data_3d(key, data):\n",
    "#    size = int(numpy.round(len(data) ** (1 / 3)))\n",
    "#    x = key.reshape(1, size, size, size, 1)\n",
    "#    y = data.reshape(1, size, size, size, 1)\n",
    "#    return x, y"
   ]
  },
  {
   "cell_type": "code",
   "execution_count": 23,
   "metadata": {
    "collapsed": true
   },
   "outputs": [],
   "source": [
    "def fit_models(x, y):\n",
    "    models = []\n",
    "    for i in tqdm.tqdm(range(blocks)):\n",
    "        model = init_model_3d(x.shape[1:])\n",
    "        acc = 0\n",
    "        while acc < 1:\n",
    "            model.fit(x, y[i, :, :], batch_size=1, epochs=1, verbose=0)\n",
    "            acc = model.evaluate(x, y[i, :, :], batch_size=1, verbose=0)[1]\n",
    "            #print(\"Accuracy:\", acc)\n",
    "        models.append(model)\n",
    "    return models"
   ]
  },
  {
   "cell_type": "code",
   "execution_count": 24,
   "metadata": {
    "collapsed": true
   },
   "outputs": [],
   "source": [
    "block_size = 32"
   ]
  },
  {
   "cell_type": "code",
   "execution_count": 25,
   "metadata": {
    "collapsed": true
   },
   "outputs": [],
   "source": [
    "data_bits = read_bits(\"/home/sanz999/ImageNetResNet.py\")"
   ]
  },
  {
   "cell_type": "code",
   "execution_count": 26,
   "metadata": {},
   "outputs": [
    {
     "data": {
      "text/plain": [
       "(27680,)"
      ]
     },
     "execution_count": 26,
     "metadata": {},
     "output_type": "execute_result"
    }
   ],
   "source": [
    "data_bits.shape"
   ]
  },
  {
   "cell_type": "code",
   "execution_count": 27,
   "metadata": {
    "collapsed": true
   },
   "outputs": [],
   "source": [
    "data = random_pad_3d(data_bits)"
   ]
  },
  {
   "cell_type": "code",
   "execution_count": 28,
   "metadata": {},
   "outputs": [
    {
     "data": {
      "text/plain": [
       "(1, 32768)"
      ]
     },
     "execution_count": 28,
     "metadata": {},
     "output_type": "execute_result"
    }
   ],
   "source": [
    "data.shape"
   ]
  },
  {
   "cell_type": "code",
   "execution_count": 29,
   "metadata": {
    "collapsed": true
   },
   "outputs": [],
   "source": [
    "blocks = num_blocks(data)"
   ]
  },
  {
   "cell_type": "code",
   "execution_count": 30,
   "metadata": {
    "collapsed": true
   },
   "outputs": [],
   "source": [
    "key_cube = generate_key_cube(data)"
   ]
  },
  {
   "cell_type": "code",
   "execution_count": 31,
   "metadata": {},
   "outputs": [
    {
     "data": {
      "text/plain": [
       "(1, 32, 32, 32, 1)"
      ]
     },
     "execution_count": 31,
     "metadata": {},
     "output_type": "execute_result"
    }
   ],
   "source": [
    "key_cube.shape"
   ]
  },
  {
   "cell_type": "code",
   "execution_count": 32,
   "metadata": {},
   "outputs": [],
   "source": [
    "dataset = split_data(data)"
   ]
  },
  {
   "cell_type": "code",
   "execution_count": 33,
   "metadata": {},
   "outputs": [
    {
     "data": {
      "text/plain": [
       "(1, 1, 32768)"
      ]
     },
     "execution_count": 33,
     "metadata": {},
     "output_type": "execute_result"
    }
   ],
   "source": [
    "dataset.shape"
   ]
  },
  {
   "cell_type": "code",
   "execution_count": 34,
   "metadata": {
    "collapsed": true
   },
   "outputs": [],
   "source": [
    "#the_model = init_model_3d(key_cubes.shape[2:])"
   ]
  },
  {
   "cell_type": "code",
   "execution_count": 35,
   "metadata": {
    "collapsed": true
   },
   "outputs": [],
   "source": [
    "#the_model.summary()"
   ]
  },
  {
   "cell_type": "code",
   "execution_count": 36,
   "metadata": {},
   "outputs": [
    {
     "name": "stderr",
     "output_type": "stream",
     "text": [
      "100%|██████████| 1/1 [00:09<00:00,  9.99s/it]\n"
     ]
    }
   ],
   "source": [
    "models = fit_models(key_cube, dataset)"
   ]
  },
  {
   "cell_type": "code",
   "execution_count": 37,
   "metadata": {
    "collapsed": true
   },
   "outputs": [],
   "source": [
    "#result = numpy.round(the_model.predict(key_cube)).astype(numpy.uint8)"
   ]
  },
  {
   "cell_type": "code",
   "execution_count": 38,
   "metadata": {
    "collapsed": true
   },
   "outputs": [],
   "source": [
    "#numpy.testing.assert_equal(result, data)"
   ]
  },
  {
   "cell_type": "code",
   "execution_count": 39,
   "metadata": {
    "collapsed": true
   },
   "outputs": [],
   "source": [
    "save_models(\"/home/sanz999/convcrypt/test.convcrypt\", models)"
   ]
  },
  {
   "cell_type": "code",
   "execution_count": 40,
   "metadata": {},
   "outputs": [],
   "source": [
    "save_key(\"/home/sanz999/convcrypt/test.convkey\", key_cube)"
   ]
  },
  {
   "cell_type": "code",
   "execution_count": null,
   "metadata": {
    "collapsed": true
   },
   "outputs": [],
   "source": []
  },
  {
   "cell_type": "code",
   "execution_count": null,
   "metadata": {},
   "outputs": [],
   "source": []
  },
  {
   "cell_type": "code",
   "execution_count": null,
   "metadata": {},
   "outputs": [],
   "source": []
  },
  {
   "cell_type": "code",
   "execution_count": null,
   "metadata": {
    "collapsed": true
   },
   "outputs": [],
   "source": []
  }
 ],
 "metadata": {
  "kernelspec": {
   "display_name": "Python 3",
   "language": "python",
   "name": "python3"
  },
  "language_info": {
   "codemirror_mode": {
    "name": "ipython",
    "version": 3
   },
   "file_extension": ".py",
   "mimetype": "text/x-python",
   "name": "python",
   "nbconvert_exporter": "python",
   "pygments_lexer": "ipython3",
   "version": "3.6.1"
  }
 },
 "nbformat": 4,
 "nbformat_minor": 2
}
